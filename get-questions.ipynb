{
 "cells": [
  {
   "cell_type": "code",
   "execution_count": 1,
   "id": "f9456b45-c499-40fd-80d4-d3a7b7e25342",
   "metadata": {},
   "outputs": [],
   "source": [
    "import glob\n",
    "import re\n",
    "import json"
   ]
  },
  {
   "cell_type": "code",
   "execution_count": 2,
   "id": "367a9114-0ad6-4e9e-a8ac-c3982cb94a6d",
   "metadata": {},
   "outputs": [
    {
     "data": {
      "text/plain": [
       "1316"
      ]
     },
     "execution_count": 2,
     "metadata": {},
     "output_type": "execute_result"
    }
   ],
   "source": [
    "files = glob.glob(\"tesseract-ocr/*.txt\")\n",
    "len(files)"
   ]
  },
  {
   "cell_type": "code",
   "execution_count": 3,
   "id": "5bacd7bb-62d1-4672-b079-1305ad26b258",
   "metadata": {},
   "outputs": [],
   "source": [
    "data = []\n",
    "for file in files:\n",
    "    with open(file, \"r\", encoding=\"utf-8\") as f:\n",
    "        content = f.read()\n",
    "    data.append(content)"
   ]
  },
  {
   "cell_type": "code",
   "execution_count": 4,
   "id": "db21b6e3-cbc4-472f-a64f-b23560502037",
   "metadata": {},
   "outputs": [
    {
     "data": {
      "text/plain": [
       "1316"
      ]
     },
     "execution_count": 4,
     "metadata": {},
     "output_type": "execute_result"
    }
   ],
   "source": [
    "len(data)"
   ]
  },
  {
   "cell_type": "code",
   "execution_count": 11,
   "id": "ff89a81c-5edc-4769-bb67-2aec6d5e0bf1",
   "metadata": {},
   "outputs": [
    {
     "name": "stdout",
     "output_type": "stream",
     "text": [
      "found\n"
     ]
    }
   ],
   "source": [
    "for file in files:\n",
    "    collection = {}\n",
    "    with open(file, \"r\", encoding=\"utf-8\") as f:\n",
    "        item = f.read()\n",
    "    file = file.split(\"\\\\\")[-1].replace(\".txt\", \"\")\n",
    "    if file.split(\".\")[1] == \"562\":\n",
    "        print(\"found\")\n",
    "        break\n",
    "    questions = []\n",
    "    answers = []\n",
    "    headers = []\n",
    "    misses = []\n",
    "    item = re.sub(\"\\nA:\", \"\\n\\nA:\", item)\n",
    "    item = re.sub(\"\\nAnswer:\", \"\\n\\nAnswer:\", item)\n",
    "    item = re.sub(\"\\nQ:\", \"\\n\\nQ:\", item)\n",
    "    item = re.sub(\"\\nQuestion:\", \"\\n\\nQuestion:\", item)\n",
    "    item = re.sub(\"\\n\\n\\n\", \"\\n\\n\", item)\n",
    "    item = re.sub(\"http://collections.ushmm.org\", \"\", item)\n",
    "    item = re.sub(\"\\nContact reference@ushmm.org for further information about tis collection\\n\", \"\", item)\n",
    "    item = re.sub(\"Contact reference@ushmm.org for further information about this collection\", \"\", item)\n",
    "    item = re.sub(\"This is a verbatim transcript of spoken word. It is not the primary source, and it has not been checked for spelling or accuracy.\", \"\", item)\n",
    "    item = re.sub(\"\\nInterview with.*\\n\", \"\", item)\n",
    "    item = re.sub(\"\\nUSHMM Archives.*\\n\", \"\", item)\n",
    "    item = re.sub(\"\\n\\d{1,2}:\\d{1,2}:\\d{1,2}\", \"\", item)\n",
    "    \n",
    "    while \"\\n\\n\\n\" in item:\n",
    "        item = item.replace(\"\\n\\n\\n\", \"\\n\\n\")\n",
    "    sections = item.split(\"\\n\\n\")\n",
    "    sequence = []\n",
    "    collection = {\"rg\": file, \"sequence\": [], \"questions\":[], \"answers\": [], \"headers\": [], \"paragraph_breaks\": []}\n",
    "    # print(len(lines))\n",
    "    for section in sections:\n",
    "        lines = []\n",
    "        for line in section.split(\"\\n\"):\n",
    "            if \"USHMM\" not in line:\n",
    "                lines.append(line)\n",
    "            else:\n",
    "                headers.append(line)\n",
    "        section = \"\\n\".join(lines)       \n",
    "        if \"Q:\" in section or \"question:\" in section.lower():\n",
    "            collection[\"questions\"].append(section)\n",
    "            sequence.append(section)\n",
    "        elif \"A:\" in section or \"answer:\" in section.lower():\n",
    "            collection[\"answers\"].append(section)\n",
    "            sequence.append(section)\n",
    "        else:\n",
    "            if collection[\"answers\"]:\n",
    "                sequence[-1] = f'{sequence[-1]}\\n{section}'\n",
    "                collection[\"answers\"][-1] = f'{collection[\"answers\"][-1]}\\n{section}'\n",
    "            else:\n",
    "                collection[\"paragraph_breaks\"].append(section)\n",
    "    collection[\"sequence\"] = sequence\n",
    "    with open(f\"clean_ocr/{file}.json\", \"w\", encoding=\"utf-8\") as f:\n",
    "        json.dump(collection, f, indent=4)\n",
    "            "
   ]
  },
  {
   "cell_type": "code",
   "execution_count": 90,
   "id": "e76f5889-7d14-4db3-8541-6a4692b807e2",
   "metadata": {},
   "outputs": [
    {
     "data": {
      "text/plain": [
       "{}"
      ]
     },
     "execution_count": 90,
     "metadata": {},
     "output_type": "execute_result"
    }
   ],
   "source": [
    "collection"
   ]
  },
  {
   "cell_type": "code",
   "execution_count": null,
   "id": "a1c1375b-6b89-4e76-9a33-e0cde5d1608b",
   "metadata": {},
   "outputs": [],
   "source": []
  }
 ],
 "metadata": {
  "kernelspec": {
   "display_name": "Python 3 (ipykernel)",
   "language": "python",
   "name": "python3"
  },
  "language_info": {
   "codemirror_mode": {
    "name": "ipython",
    "version": 3
   },
   "file_extension": ".py",
   "mimetype": "text/x-python",
   "name": "python",
   "nbconvert_exporter": "python",
   "pygments_lexer": "ipython3",
   "version": "3.9.15"
  }
 },
 "nbformat": 4,
 "nbformat_minor": 5
}
