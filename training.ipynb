{
 "cells": [
  {
   "cell_type": "code",
   "execution_count": 1,
   "id": "782eef3d-076a-4504-af87-3c278f1250cc",
   "metadata": {},
   "outputs": [
    {
     "name": "stderr",
     "output_type": "stream",
     "text": [
      "C:\\Users\\wma22\\anaconda3\\envs\\classy\\lib\\site-packages\\tqdm\\auto.py:22: TqdmWarning: IProgress not found. Please update jupyter and ipywidgets. See https://ipywidgets.readthedocs.io/en/stable/user_install.html\n",
      "  from .autonotebook import tqdm as notebook_tqdm\n"
     ]
    }
   ],
   "source": [
    "import spacy\n",
    "import classy_classification\n",
    "import json\n",
    "import glob"
   ]
  },
  {
   "cell_type": "code",
   "execution_count": 2,
   "id": "ae44c5db-4063-46f0-8d43-9ecde30e5450",
   "metadata": {},
   "outputs": [],
   "source": [
    "files = glob.glob(\"clean_ocr/*.json\")"
   ]
  },
  {
   "cell_type": "code",
   "execution_count": 3,
   "id": "2cc729fa-a460-4585-a275-d6114b91590f",
   "metadata": {},
   "outputs": [],
   "source": [
    "with open(files[0], \"r\") as f:\n",
    "    json_data = json.load(f)"
   ]
  },
  {
   "cell_type": "code",
   "execution_count": 24,
   "id": "aeae49cc-2a70-4c17-9f5d-870914f5c3f8",
   "metadata": {},
   "outputs": [],
   "source": [
    "questions = json_data[\"questions\"]\n",
    "questions = [q.split(\":\")[1].strip().replace(\"?\", \".\") for q in questions]\n",
    "\n",
    "answers = json_data[\"answers\"]\n",
    "answers =  [a.split(\":\")[1].strip().split(\".\")[0]+\".\" for a in answers]"
   ]
  },
  {
   "cell_type": "code",
   "execution_count": 25,
   "id": "4e80ca27-0503-47d6-b480-6759a08dc2cb",
   "metadata": {},
   "outputs": [
    {
     "data": {
      "text/plain": [
       "['I need you to start off by telling me your name, place of birth, and date of birth.']"
      ]
     },
     "execution_count": 25,
     "metadata": {},
     "output_type": "execute_result"
    }
   ],
   "source": [
    "questions[:1]"
   ]
  },
  {
   "cell_type": "code",
   "execution_count": 26,
   "id": "44e8acdf-5eb4-4ccb-94d6-b212c3990bdc",
   "metadata": {},
   "outputs": [
    {
     "data": {
      "text/plain": [
       "['My name David Kochalski.']"
      ]
     },
     "execution_count": 26,
     "metadata": {},
     "output_type": "execute_result"
    }
   ],
   "source": [
    "answers[:1]"
   ]
  },
  {
   "cell_type": "code",
   "execution_count": 36,
   "id": "394d728b-0344-4a03-af31-886591d328fa",
   "metadata": {},
   "outputs": [
    {
     "data": {
      "text/plain": [
       "<classy_classification.classifiers.classy_spacy.ClassySpacyInternalFewShot at 0x18423461e20>"
      ]
     },
     "execution_count": 36,
     "metadata": {},
     "output_type": "execute_result"
    }
   ],
   "source": [
    "data = {\n",
    "    \"QUESTION\": questions,\n",
    "    \"ANSWER\": answers\n",
    "}\n",
    "\n",
    "# see github repo for examples on sentence-transformers and Huggingface\n",
    "nlp = spacy.load('en_core_web_md')\n",
    "nlp.add_pipe(\"text_categorizer\", \n",
    "    config={\n",
    "        \"data\": data,\n",
    "        \"model\": \"spacy\"\n",
    "    }\n",
    ")\n"
   ]
  },
  {
   "cell_type": "code",
   "execution_count": 37,
   "id": "5c783f4e-0a1e-4a7d-831c-8e3a746a0ccc",
   "metadata": {},
   "outputs": [
    {
     "name": "stdout",
     "output_type": "stream",
     "text": [
      "{'ANSWER': 0.5, 'QUESTION': 0.5}\n"
     ]
    }
   ],
   "source": [
    "print(nlp(\"\"\"Where did it take place\"\"\")._.cats)"
   ]
  },
  {
   "cell_type": "code",
   "execution_count": null,
   "id": "750bf332-6868-4b82-aec0-96f94daa98cf",
   "metadata": {},
   "outputs": [],
   "source": []
  }
 ],
 "metadata": {
  "kernelspec": {
   "display_name": "Python 3 (ipykernel)",
   "language": "python",
   "name": "python3"
  },
  "language_info": {
   "codemirror_mode": {
    "name": "ipython",
    "version": 3
   },
   "file_extension": ".py",
   "mimetype": "text/x-python",
   "name": "python",
   "nbconvert_exporter": "python",
   "pygments_lexer": "ipython3",
   "version": "3.9.15"
  }
 },
 "nbformat": 4,
 "nbformat_minor": 5
}
