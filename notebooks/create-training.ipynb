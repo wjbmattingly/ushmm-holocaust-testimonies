{
 "cells": [
  {
   "cell_type": "code",
   "execution_count": 1,
   "id": "37955072-a3ef-45b8-93b2-0de67f964af9",
   "metadata": {},
   "outputs": [
    {
     "name": "stderr",
     "output_type": "stream",
     "text": [
      "C:\\Users\\wma22\\anaconda3\\envs\\classy\\lib\\site-packages\\tqdm\\auto.py:22: TqdmWarning: IProgress not found. Please update jupyter and ipywidgets. See https://ipywidgets.readthedocs.io/en/stable/user_install.html\n",
      "  from .autonotebook import tqdm as notebook_tqdm\n"
     ]
    }
   ],
   "source": [
    "import glob\n",
    "import srsly\n",
    "import spacy\n",
    "import more_itertools\n",
    "from spacy.tokens import Span"
   ]
  },
  {
   "cell_type": "code",
   "execution_count": 2,
   "id": "1dc9ca42-6d8c-427c-b61c-0198a16b574f",
   "metadata": {},
   "outputs": [
    {
     "data": {
      "text/plain": [
       "1115"
      ]
     },
     "execution_count": 2,
     "metadata": {},
     "output_type": "execute_result"
    }
   ],
   "source": [
    "files = glob.glob(\"clean_ocr/*.json\")\n",
    "len(files)"
   ]
  },
  {
   "cell_type": "code",
   "execution_count": 3,
   "id": "e62328c2-d528-42ed-a681-92b332373651",
   "metadata": {},
   "outputs": [],
   "source": [
    "data = srsly.read_json(files[0])"
   ]
  },
  {
   "cell_type": "code",
   "execution_count": 4,
   "id": "86cf57a5-19c6-4770-960e-4f1c560ad03f",
   "metadata": {},
   "outputs": [],
   "source": [
    "sequence = data[\"sequence\"]"
   ]
  },
  {
   "cell_type": "code",
   "execution_count": 5,
   "id": "607baf2a-1eb2-41d9-b748-66db8dc28d20",
   "metadata": {},
   "outputs": [],
   "source": [
    "nlp = spacy.blank(\"en\")"
   ]
  },
  {
   "cell_type": "code",
   "execution_count": 32,
   "id": "6ab83cd6-62cb-4d64-81fb-43a4c79ed39b",
   "metadata": {},
   "outputs": [],
   "source": [
    "TRAIN_DATA = []\n",
    "i=0\n",
    "for transcript in more_itertools.chunked(sequence, 4):\n",
    "    transcript = \"\\n\\n\".join(transcript)\n",
    "    transcript = transcript.replace(\"Q: \", \"\").replace(\"A: \", \"\")\n",
    "    doc = nlp(transcript)\n",
    "    spans = []\n",
    "    for question in data[\"questions\"]:\n",
    "        question = question.split(\": \")[1]\n",
    "        res = transcript.find(question)\n",
    "        if res == -1:\n",
    "            pass\n",
    "        else:\n",
    "            span = doc.char_span(res, res+len(question))\n",
    "            span = Span(doc, span.start, span.end)\n",
    "            spans.append({\"label\": \"QUESTION\", \"start\": span.start, \"end\": span.end})\n",
    "    TRAIN_DATA.append({\"text\": doc.text, \"annotations\": spans})\n",
    "    i=i+4"
   ]
  },
  {
   "cell_type": "code",
   "execution_count": 33,
   "id": "7f44dbd5-2d5a-4c05-a3c6-712f57134a4f",
   "metadata": {},
   "outputs": [
    {
     "data": {
      "text/plain": [
       "{'text': \"It was still going?\\n\\nYes. I stayed there. All of sudden we heard that Warsaw was surrounded, and here my\\nmother and father were very anxious because five children were there. We heard that the\\nGermans surrounded them and the artillery is going, and there was no food because there\\nwere more than a million people in Warsaw. My father and mother decided that I should\\ngo back to Warsaw to help the children. So, they loaded me up with flour, food, but it\\nwas very tough, tough for me.\\n\\nYou were talking about you were going to take some food?\\n\\nI had to take some food to help because starvation in Warsaw my mother and father heard\\nabout. And you know, they have four children left helter skeltor in Warsaw in a small\\nroom. So, they loaded me up with all kinds of food and they said, maybe he'll make it\\neven though Warsaw was surrounded. It was very heavy what they put on, and I\\nremember my father and mother, my mother would say to my father, maybe we'll never\\nsee him again. But I guess the urge to help the children was greater and my father kind\\nof looked at me and probably thought the same way, will I go through it, because there\\nwere horses and people on the street massacred, killed on the way to Warsaw. In other\\nwords, out of town the Germans would also throw in a bomb, artillery, bombed it. Many\\npeople would walk through the streets going to Warsaw you would see carnage. So, my\\nmother kind of kissed me and says who knows if I'll ever see him to my father, and my\\nfather clenched his hand and I turned around and I walked. I never saw them again.\",\n",
       " 'annotations': [{'label': 'QUESTION', 'start': 0, 'end': 5},\n",
       "  {'label': 'QUESTION', 'start': 110, 'end': 122}]}"
      ]
     },
     "execution_count": 33,
     "metadata": {},
     "output_type": "execute_result"
    }
   ],
   "source": [
    "TRAIN_DATA[10]"
   ]
  },
  {
   "cell_type": "code",
   "execution_count": 29,
   "id": "5c6e01c2-051f-45a0-a9a5-ce6b445412cf",
   "metadata": {},
   "outputs": [
    {
     "data": {
      "text/plain": [
       "62"
      ]
     },
     "execution_count": 29,
     "metadata": {},
     "output_type": "execute_result"
    }
   ],
   "source": [
    "len(TRAIN_DATA)"
   ]
  },
  {
   "cell_type": "code",
   "execution_count": null,
   "id": "008580a1-996b-4a82-80de-aa868ded6a09",
   "metadata": {},
   "outputs": [],
   "source": []
  }
 ],
 "metadata": {
  "kernelspec": {
   "display_name": "Python 3 (ipykernel)",
   "language": "python",
   "name": "python3"
  },
  "language_info": {
   "codemirror_mode": {
    "name": "ipython",
    "version": 3
   },
   "file_extension": ".py",
   "mimetype": "text/x-python",
   "name": "python",
   "nbconvert_exporter": "python",
   "pygments_lexer": "ipython3",
   "version": "3.9.15"
  }
 },
 "nbformat": 4,
 "nbformat_minor": 5
}
