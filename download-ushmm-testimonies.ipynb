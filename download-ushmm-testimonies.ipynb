{
 "cells": [
  {
   "cell_type": "code",
   "execution_count": 32,
   "id": "b63aeef2-2493-41a9-aa62-009ca5a49ec7",
   "metadata": {},
   "outputs": [],
   "source": [
    "import requests\n",
    "from bs4 import BeautifulSoup\n",
    "import pandas as pd"
   ]
  },
  {
   "cell_type": "code",
   "execution_count": 20,
   "id": "4817aefb-cb4e-4255-b24d-a7901d75f4d4",
   "metadata": {},
   "outputs": [],
   "source": [
    "ushmm_url = \"https://collections.ushmm.org\""
   ]
  },
  {
   "cell_type": "code",
   "execution_count": 60,
   "id": "4dd2a6f6-a0a8-44ee-af5d-4a58e42e508e",
   "metadata": {},
   "outputs": [
    {
     "name": "stdout",
     "output_type": "stream",
     "text": [
      "1\n",
      "2\n",
      "3\n",
      "4\n",
      "5\n",
      "6\n",
      "7\n",
      "8\n",
      "9\n",
      "10\n",
      "11\n",
      "12\n",
      "13\n",
      "14\n",
      "15\n",
      "16\n",
      "17\n",
      "18\n",
      "19\n",
      "20\n",
      "21\n",
      "22\n",
      "23\n",
      "24\n",
      "25\n",
      "26\n",
      "27\n",
      "28\n",
      "29\n"
     ]
    }
   ],
   "source": [
    "page_data = []\n",
    "for page_num in range(1, 30):\n",
    "    print(page_num)\n",
    "    base_url = f\"https://collections.ushmm.org/search/?f%5Bavailability%5D%5B%5D=transcript&f%5Bavailability%5D%5B%5D=english&f%5Bbrowse%5D%5B%5D=testimonies&page={page_num}&per_page=100\"\n",
    "    s = requests.get(base_url)\n",
    "    soup = BeautifulSoup(s.content)\n",
    "    documents = soup.find_all(\"div\", {\"class\": \"document\"})\n",
    "    for document in documents:\n",
    "        subpage = ushmm_url+document.find(\"a\")[\"href\"]\n",
    "        try:\n",
    "            identifiers = document.find(\"div\", {\"class\": \"record-identifiers\"}).text.strip().replace(\"|\", \",\")\n",
    "        except:\n",
    "            ValueError\n",
    "            identifiers = \"unknown\"\n",
    "        date = \"Unknown\"\n",
    "        sc = \"Unknown\"\n",
    "        try:\n",
    "            date = document.find(\"dd\", {\"class\": \"blacklight-display_date\"}).text.strip()\n",
    "        except:\n",
    "            AttributeError\n",
    "        try:\n",
    "            sc = document.find(\"dt\", {\"class\": \"blacklight-special_collection\"}).text.strip()\n",
    "        except:\n",
    "            AttributeError\n",
    "        page_data.append((identifiers, date, subpage))"
   ]
  },
  {
   "cell_type": "code",
   "execution_count": 62,
   "id": "72ac5353-2d27-4093-b1bc-641cbe6ea0d1",
   "metadata": {},
   "outputs": [
    {
     "data": {
      "text/html": [
       "<div>\n",
       "<style scoped>\n",
       "    .dataframe tbody tr th:only-of-type {\n",
       "        vertical-align: middle;\n",
       "    }\n",
       "\n",
       "    .dataframe tbody tr th {\n",
       "        vertical-align: top;\n",
       "    }\n",
       "\n",
       "    .dataframe thead th {\n",
       "        text-align: right;\n",
       "    }\n",
       "</style>\n",
       "<table border=\"1\" class=\"dataframe\">\n",
       "  <thead>\n",
       "    <tr style=\"text-align: right;\">\n",
       "      <th></th>\n",
       "      <th>identifiers</th>\n",
       "      <th>date</th>\n",
       "      <th>page</th>\n",
       "    </tr>\n",
       "  </thead>\n",
       "  <tbody>\n",
       "    <tr>\n",
       "      <th>0</th>\n",
       "      <td>Oral History , Accession Number: 2001.28 , RG ...</td>\n",
       "      <td>interview: 2001 February 20</td>\n",
       "      <td>https://collections.ushmm.org/search/catalog/i...</td>\n",
       "    </tr>\n",
       "    <tr>\n",
       "      <th>1</th>\n",
       "      <td>Oral History , Accession Number: 2015.382.1 , ...</td>\n",
       "      <td>interview: 2014 November 30</td>\n",
       "      <td>https://collections.ushmm.org/search/catalog/i...</td>\n",
       "    </tr>\n",
       "    <tr>\n",
       "      <th>2</th>\n",
       "      <td>Oral History , Accession Number: 2001.213.1 , ...</td>\n",
       "      <td>Unknown</td>\n",
       "      <td>https://collections.ushmm.org/search/catalog/i...</td>\n",
       "    </tr>\n",
       "    <tr>\n",
       "      <th>3</th>\n",
       "      <td>Oral History , RG Number: RG-50.999.0419</td>\n",
       "      <td>interview: 2013 April 25</td>\n",
       "      <td>https://collections.ushmm.org/search/catalog/i...</td>\n",
       "    </tr>\n",
       "    <tr>\n",
       "      <th>4</th>\n",
       "      <td>Oral History , RG Number: RG-50.030.0274</td>\n",
       "      <td>interview: 1995 August 18</td>\n",
       "      <td>https://collections.ushmm.org/search/catalog/i...</td>\n",
       "    </tr>\n",
       "    <tr>\n",
       "      <th>...</th>\n",
       "      <td>...</td>\n",
       "      <td>...</td>\n",
       "      <td>...</td>\n",
       "    </tr>\n",
       "    <tr>\n",
       "      <th>2891</th>\n",
       "      <td>Oral History , Accession Number: 1993.A.0097.1...</td>\n",
       "      <td>interview: 1982 June</td>\n",
       "      <td>https://collections.ushmm.org/search/catalog/i...</td>\n",
       "    </tr>\n",
       "    <tr>\n",
       "      <th>2892</th>\n",
       "      <td>Oral History , Accession Number: 2011.93 , RG ...</td>\n",
       "      <td>interview: 2011 April 21</td>\n",
       "      <td>https://collections.ushmm.org/search/catalog/i...</td>\n",
       "    </tr>\n",
       "    <tr>\n",
       "      <th>2893</th>\n",
       "      <td>Oral History , RG Number: RG-50.999.0560</td>\n",
       "      <td>interview: 2016 May 25</td>\n",
       "      <td>https://collections.ushmm.org/search/catalog/i...</td>\n",
       "    </tr>\n",
       "    <tr>\n",
       "      <th>2894</th>\n",
       "      <td>Oral History , RG Number: RG-50.999.0663</td>\n",
       "      <td>interview: 2018 July 11</td>\n",
       "      <td>https://collections.ushmm.org/search/catalog/i...</td>\n",
       "    </tr>\n",
       "    <tr>\n",
       "      <th>2895</th>\n",
       "      <td>Oral History , Accession Number: 2003.208 , RG...</td>\n",
       "      <td>interview: 2003 September 09</td>\n",
       "      <td>https://collections.ushmm.org/search/catalog/i...</td>\n",
       "    </tr>\n",
       "  </tbody>\n",
       "</table>\n",
       "<p>2896 rows × 3 columns</p>\n",
       "</div>"
      ],
      "text/plain": [
       "                                            identifiers  \\\n",
       "0     Oral History , Accession Number: 2001.28 , RG ...   \n",
       "1     Oral History , Accession Number: 2015.382.1 , ...   \n",
       "2     Oral History , Accession Number: 2001.213.1 , ...   \n",
       "3              Oral History , RG Number: RG-50.999.0419   \n",
       "4              Oral History , RG Number: RG-50.030.0274   \n",
       "...                                                 ...   \n",
       "2891  Oral History , Accession Number: 1993.A.0097.1...   \n",
       "2892  Oral History , Accession Number: 2011.93 , RG ...   \n",
       "2893           Oral History , RG Number: RG-50.999.0560   \n",
       "2894           Oral History , RG Number: RG-50.999.0663   \n",
       "2895  Oral History , Accession Number: 2003.208 , RG...   \n",
       "\n",
       "                              date  \\\n",
       "0      interview: 2001 February 20   \n",
       "1      interview: 2014 November 30   \n",
       "2                          Unknown   \n",
       "3         interview: 2013 April 25   \n",
       "4        interview: 1995 August 18   \n",
       "...                            ...   \n",
       "2891          interview: 1982 June   \n",
       "2892      interview: 2011 April 21   \n",
       "2893        interview: 2016 May 25   \n",
       "2894       interview: 2018 July 11   \n",
       "2895  interview: 2003 September 09   \n",
       "\n",
       "                                                   page  \n",
       "0     https://collections.ushmm.org/search/catalog/i...  \n",
       "1     https://collections.ushmm.org/search/catalog/i...  \n",
       "2     https://collections.ushmm.org/search/catalog/i...  \n",
       "3     https://collections.ushmm.org/search/catalog/i...  \n",
       "4     https://collections.ushmm.org/search/catalog/i...  \n",
       "...                                                 ...  \n",
       "2891  https://collections.ushmm.org/search/catalog/i...  \n",
       "2892  https://collections.ushmm.org/search/catalog/i...  \n",
       "2893  https://collections.ushmm.org/search/catalog/i...  \n",
       "2894  https://collections.ushmm.org/search/catalog/i...  \n",
       "2895  https://collections.ushmm.org/search/catalog/i...  \n",
       "\n",
       "[2896 rows x 3 columns]"
      ]
     },
     "execution_count": 62,
     "metadata": {},
     "output_type": "execute_result"
    }
   ],
   "source": [
    "df = pd.DataFrame(page_data, columns=[\"identifiers\", \"date\", \"page\"])\n",
    "df"
   ]
  },
  {
   "cell_type": "code",
   "execution_count": 63,
   "id": "50f74e5d-58d6-4c5c-bba3-cebfef50fa17",
   "metadata": {},
   "outputs": [
    {
     "data": {
      "text/plain": [
       "'https://collections.ushmm.org/search/?f%5Bavailability%5D%5B%5D=transcript&f%5Bavailability%5D%5B%5D=english&f%5Bbrowse%5D%5B%5D=testimonies&page=29&per_page=100'"
      ]
     },
     "execution_count": 63,
     "metadata": {},
     "output_type": "execute_result"
    }
   ],
   "source": [
    "base_url"
   ]
  },
  {
   "cell_type": "code",
   "execution_count": null,
   "id": "c982f3cf-ad5e-4641-b7fa-b9d71645c0de",
   "metadata": {},
   "outputs": [],
   "source": []
  },
  {
   "cell_type": "code",
   "execution_count": 65,
   "id": "acde1d31-0b58-4275-ab28-e2da0c8abe86",
   "metadata": {},
   "outputs": [],
   "source": [
    "df.to_csv(\"data/oral_testimony_urls.csv\", index=False)"
   ]
  },
  {
   "cell_type": "code",
   "execution_count": 66,
   "id": "b8b53809-bc8b-4251-93ab-3e4ee8956d1b",
   "metadata": {},
   "outputs": [
    {
     "name": "stdout",
     "output_type": "stream",
     "text": [
      "|    | identifiers                                                             | date                        | page                                                   |\n",
      "|---:|:------------------------------------------------------------------------|:----------------------------|:-------------------------------------------------------|\n",
      "|  0 | Oral History , Accession Number: 2001.28 , RG Number: RG-50.030.0410    | interview: 2001 February 20 | https://collections.ushmm.org/search/catalog/irn512935 |\n",
      "|  1 | Oral History , Accession Number: 2015.382.1 , RG Number: RG-50.106.0245 | interview: 2014 November 30 | https://collections.ushmm.org/search/catalog/irn185375 |\n",
      "|  2 | Oral History , Accession Number: 2001.213.1 , RG Number: RG-50.969.0001 | Unknown                     | https://collections.ushmm.org/search/catalog/irn558424 |\n",
      "|  3 | Oral History , RG Number: RG-50.999.0419                                | interview: 2013 April 25    | https://collections.ushmm.org/search/catalog/irn598532 |\n",
      "|  4 | Oral History , RG Number: RG-50.030.0274                                | interview: 1995 August 18   | https://collections.ushmm.org/search/catalog/irn504758 |\n"
     ]
    }
   ],
   "source": [
    "print(df.head(5).to_markdown())"
   ]
  },
  {
   "cell_type": "code",
   "execution_count": 58,
   "id": "f00c8bc1-d871-4734-bdeb-abe37d19b179",
   "metadata": {},
   "outputs": [
    {
     "data": {
      "text/html": [
       "<div>\n",
       "<style scoped>\n",
       "    .dataframe tbody tr th:only-of-type {\n",
       "        vertical-align: middle;\n",
       "    }\n",
       "\n",
       "    .dataframe tbody tr th {\n",
       "        vertical-align: top;\n",
       "    }\n",
       "\n",
       "    .dataframe thead th {\n",
       "        text-align: right;\n",
       "    }\n",
       "</style>\n",
       "<table border=\"1\" class=\"dataframe\">\n",
       "  <thead>\n",
       "    <tr style=\"text-align: right;\">\n",
       "      <th></th>\n",
       "      <th>identifiers</th>\n",
       "      <th>date</th>\n",
       "      <th>special_collection</th>\n",
       "      <th>page</th>\n",
       "    </tr>\n",
       "  </thead>\n",
       "  <tbody>\n",
       "    <tr>\n",
       "      <th>0</th>\n",
       "      <td>Oral History | Accession Number: 2001.28 | RG ...</td>\n",
       "      <td>interview: 2001 February 20</td>\n",
       "      <td>Special Collection:</td>\n",
       "      <td>https://collections.ushmm.org/search/catalog/i...</td>\n",
       "    </tr>\n",
       "    <tr>\n",
       "      <th>1</th>\n",
       "      <td>Oral History | Accession Number: 2015.382.1 | ...</td>\n",
       "      <td>interview: 2014 November 30</td>\n",
       "      <td>Special Collection:</td>\n",
       "      <td>https://collections.ushmm.org/search/catalog/i...</td>\n",
       "    </tr>\n",
       "    <tr>\n",
       "      <th>2</th>\n",
       "      <td>Oral History | Accession Number: 2001.213.1 | ...</td>\n",
       "      <td>Unknown</td>\n",
       "      <td>Special Collection:</td>\n",
       "      <td>https://collections.ushmm.org/search/catalog/i...</td>\n",
       "    </tr>\n",
       "    <tr>\n",
       "      <th>3</th>\n",
       "      <td>Oral History | RG Number: RG-50.999.0419</td>\n",
       "      <td>interview: 2013 April 25</td>\n",
       "      <td>Special Collection:</td>\n",
       "      <td>https://collections.ushmm.org/search/catalog/i...</td>\n",
       "    </tr>\n",
       "    <tr>\n",
       "      <th>4</th>\n",
       "      <td>Oral History | RG Number: RG-50.030.0274</td>\n",
       "      <td>interview: 1995 August 18</td>\n",
       "      <td>Special Collection:</td>\n",
       "      <td>https://collections.ushmm.org/search/catalog/i...</td>\n",
       "    </tr>\n",
       "  </tbody>\n",
       "</table>\n",
       "</div>"
      ],
      "text/plain": [
       "                                         identifiers  \\\n",
       "0  Oral History | Accession Number: 2001.28 | RG ...   \n",
       "1  Oral History | Accession Number: 2015.382.1 | ...   \n",
       "2  Oral History | Accession Number: 2001.213.1 | ...   \n",
       "3           Oral History | RG Number: RG-50.999.0419   \n",
       "4           Oral History | RG Number: RG-50.030.0274   \n",
       "\n",
       "                          date   special_collection  \\\n",
       "0  interview: 2001 February 20  Special Collection:   \n",
       "1  interview: 2014 November 30  Special Collection:   \n",
       "2                      Unknown  Special Collection:   \n",
       "3     interview: 2013 April 25  Special Collection:   \n",
       "4    interview: 1995 August 18  Special Collection:   \n",
       "\n",
       "                                                page  \n",
       "0  https://collections.ushmm.org/search/catalog/i...  \n",
       "1  https://collections.ushmm.org/search/catalog/i...  \n",
       "2  https://collections.ushmm.org/search/catalog/i...  \n",
       "3  https://collections.ushmm.org/search/catalog/i...  \n",
       "4  https://collections.ushmm.org/search/catalog/i...  "
      ]
     },
     "execution_count": 58,
     "metadata": {},
     "output_type": "execute_result"
    }
   ],
   "source": [
    "df.head(5)"
   ]
  },
  {
   "cell_type": "code",
   "execution_count": 68,
   "id": "567ecb98-7887-4e32-b0c6-073749dda252",
   "metadata": {},
   "outputs": [
    {
     "data": {
      "text/plain": [
       "'https://collections.ushmm.org/search/catalog/irn512935'"
      ]
     },
     "execution_count": 68,
     "metadata": {},
     "output_type": "execute_result"
    }
   ],
   "source": [
    "test = df.page.tolist()[0]\n",
    "test"
   ]
  },
  {
   "cell_type": "code",
   "execution_count": 76,
   "id": "6ecd6f1d-703f-48ec-afff-19ff64905927",
   "metadata": {},
   "outputs": [
    {
     "name": "stdout",
     "output_type": "stream",
     "text": [
      "https://collections.ushmm.org/oh_findingaids/RG-50.030.0410_trs_en.pdf\n",
      "RG-50.030.0410_trs_en.pdf\n"
     ]
    }
   ],
   "source": [
    "def download_pdf(url, DIR):\n",
    "    s =  requests.get(url)\n",
    "    soup = BeautifulSoup(s.content)\n",
    "    pdf = \"\"\n",
    "    for a in soup.find_all(\"a\"):\n",
    "        if \"pdf\" in a[\"href\"]:\n",
    "            pdf = a[\"href\"]\n",
    "    if pdf != \"\":\n",
    "        s = requests.get(pdf)\n",
    "    filename = pdf.split(\"/\")[-1]\n",
    "    with open(f\"{DIR}/{filename}\", \"wb\") as f:\n",
    "        f.write(s.content)\n",
    "download_pdf(test, \"pdfs\")"
   ]
  },
  {
   "cell_type": "code",
   "execution_count": null,
   "id": "794fb277-3f29-473e-bf4e-21f8ed08a0a7",
   "metadata": {},
   "outputs": [],
   "source": []
  }
 ],
 "metadata": {
  "kernelspec": {
   "display_name": "Python 3 (ipykernel)",
   "language": "python",
   "name": "python3"
  },
  "language_info": {
   "codemirror_mode": {
    "name": "ipython",
    "version": 3
   },
   "file_extension": ".py",
   "mimetype": "text/x-python",
   "name": "python",
   "nbconvert_exporter": "python",
   "pygments_lexer": "ipython3",
   "version": "3.8.5"
  }
 },
 "nbformat": 4,
 "nbformat_minor": 5
}
